{
 "cells": [
  {
   "cell_type": "code",
   "execution_count": 1,
   "metadata": {
    "collapsed": true
   },
   "outputs": [],
   "source": [
    "import tensorflow as tf\n",
    "from sklearn.model_selection import train_test_split\n",
    "from tensorflow.examples.tutorials.mnist import input_data\n",
    "import numpy as np"
   ]
  },
  {
   "cell_type": "code",
   "execution_count": 2,
   "metadata": {
    "collapsed": false
   },
   "outputs": [
    {
     "name": "stdout",
     "output_type": "stream",
     "text": [
      "Extracting MNIST_data/train-images-idx3-ubyte.gz\n",
      "Extracting MNIST_data/train-labels-idx1-ubyte.gz\n",
      "Extracting MNIST_data/t10k-images-idx3-ubyte.gz\n",
      "Extracting MNIST_data/t10k-labels-idx1-ubyte.gz\n"
     ]
    }
   ],
   "source": [
    "mnist = input_data.read_data_sets('MNIST_data/', one_hot=True)\n",
    "mnist_X = np.r_[mnist.train.images, mnist.test.images]\n",
    "mnist_y = np.r_[mnist.train.labels, mnist.test.labels]\n",
    "\n",
    "train_X, test_X, train_y, test_y = train_test_split(mnist_X, mnist_y, test_size=0.2, random_state=42)"
   ]
  },
  {
   "cell_type": "code",
   "execution_count": 3,
   "metadata": {
    "collapsed": true
   },
   "outputs": [],
   "source": [
    "import tensorflow.contrib.slim as slim"
   ]
  },
  {
   "cell_type": "code",
   "execution_count": 133,
   "metadata": {
    "collapsed": false
   },
   "outputs": [],
   "source": [
    "class Normal(object):\n",
    "    def __init__(self, loc, scale, givens=[], outputs=[], seed=1, name=None, *kwargs):\n",
    "        self._set_distribution(loc, scale)\n",
    "        self.loc = loc\n",
    "        self.givens = givens\n",
    "        self.outputs = outputs\n",
    "        self.seed = seed\n",
    "        \n",
    "        self.loc = loc\n",
    "        self.scale = scale\n",
    "        self.graph = self.loc.graph\n",
    "        \n",
    "        self.name = name\n",
    "        \n",
    "    def _set_distribution(self, loc, scale):\n",
    "        self.distribution = tf.contrib.distributions.Normal(loc=loc, scale=scale)\n",
    "\n",
    "    def fprop(self, givens=None, **kwargs): \n",
    "        if givens == None:\n",
    "            return self.loc, self.scale\n",
    "        else:\n",
    "            loc,scale, = tf.import_graph_def(self.loc.graph.as_graph_def(), input_map=givens,\n",
    "                                           return_elements=[self.loc.name, self.scale.name], name=self.name)\n",
    "            self._set_distribution(loc, scale)\n",
    "            return loc, scale\n",
    "\n",
    "    def sample_given_x(self, givens=None, **kwargs):\n",
    "        _ = self.fprop(givens)\n",
    "        samples = self.distribution.sample()\n",
    "        return {self.outputs[0]: samples}\n",
    "    \n",
    "    def log_likelihood_given_x(self, givens, samples, **kwargs):\n",
    "        _= self.fprop(givens)\n",
    "        return self.distribution.log_prob(samples)"
   ]
  },
  {
   "cell_type": "code",
   "execution_count": 134,
   "metadata": {
    "collapsed": false
   },
   "outputs": [],
   "source": [
    "class Bernoulli(object):\n",
    "    def __init__(self, logits, givens=[], outputs=[], seed=1, name=None, *kwargs):\n",
    "        self._set_distribution(logits)\n",
    "        self.logits = logits\n",
    "        self.givens = givens\n",
    "        self.outputs = outputs\n",
    "        self.seed = seed\n",
    "        \n",
    "        self.logits = logits\n",
    "        self.graph = self.logits.graph\n",
    "        \n",
    "        self.name = name\n",
    "\n",
    "    def _set_distribution(self, logits):\n",
    "        self.distribution = tf.contrib.distributions.Bernoulli(logits=logits)        \n",
    "        \n",
    "    def fprop(self, givens=None, **kwargs): \n",
    "        if givens == None:\n",
    "            return self.logits\n",
    "        else:\n",
    "            logits, = tf.import_graph_def(self.logits.graph.as_graph_def(), input_map=givens,\n",
    "                                               return_elements=[self.logits.name], name=self.name)\n",
    "            self._set_distribution(logits)\n",
    "            return logits\n",
    "\n",
    "    def sample_given_x(self, givens=None, **kwargs):\n",
    "        _ = self.fprop(givens)\n",
    "        samples = self.distribution.sample()\n",
    "        return {self.outputs[0]: samples}\n",
    "    \n",
    "    def log_likelihood_given_x(self, givens, samples, **kwargs):\n",
    "        _= self.fprop(givens)\n",
    "        return self.distribution.log_prob(samples)    "
   ]
  },
  {
   "cell_type": "code",
   "execution_count": 140,
   "metadata": {
    "collapsed": false
   },
   "outputs": [],
   "source": [
    "with tf.Graph().as_default() as q_graph:\n",
    "    x = tf.placeholder(tf.float32, shape=[None, 28*28], name=\"x\")\n",
    "    with slim.arg_scope([slim.fully_connected], activation_fn=tf.nn.relu):\n",
    "        q_0 = slim.fully_connected(x, 64)\n",
    "        q_1 = slim.fully_connected(q_0, 64)\n",
    "        q_mean = slim.fully_connected(q_1, 64, activation_fn=None)\n",
    "        q_var = slim.fully_connected(q_1, 64, activation_fn=tf.nn.tanh)\n",
    "\n",
    "with tf.Graph().as_default() as p_graph:        \n",
    "    z = tf.placeholder(tf.float32, shape=[None, 64], name=\"z\")\n",
    "    with slim.arg_scope([slim.fully_connected], activation_fn=tf.nn.relu):\n",
    "        p_0 = slim.fully_connected(z, 64)\n",
    "        p_1 = slim.fully_connected(p_0, 64)\n",
    "        p_mean = slim.fully_connected(p_1, 784, activation_fn=tf.nn.sigmoid)\n",
    "        \n",
    "q = Normal(q_mean, q_var, givens=[\"x\"], outputs=[\"z\"])\n",
    "p = Bernoulli(p_mean, givens=[\"z\"], outputs=[\"x\"])"
   ]
  },
  {
   "cell_type": "code",
   "execution_count": 137,
   "metadata": {
    "collapsed": false
   },
   "outputs": [],
   "source": [
    "_x = tf.placeholder(tf.float32, shape=[None, 28*28], name=\"x\")\n",
    "z = q.sample_given_x({\"x\":_x})\n",
    "#loglike = p.log_likelihood_given_x(z, _x)"
   ]
  },
  {
   "cell_type": "code",
   "execution_count": 115,
   "metadata": {
    "collapsed": false,
    "scrolled": true
   },
   "outputs": [
    {
     "name": "stdout",
     "output_type": "stream",
     "text": [
      "[<tf.Operation 'x' type=Placeholder>, <tf.Operation 'import/x' type=Placeholder>, <tf.Operation 'import/fully_connected/weights/Initializer/random_uniform/shape' type=Const>, <tf.Operation 'import/fully_connected/weights/Initializer/random_uniform/min' type=Const>, <tf.Operation 'import/fully_connected/weights/Initializer/random_uniform/max' type=Const>, <tf.Operation 'import/fully_connected/weights/Initializer/random_uniform/RandomUniform' type=RandomUniform>, <tf.Operation 'import/fully_connected/weights/Initializer/random_uniform/sub' type=Sub>, <tf.Operation 'import/fully_connected/weights/Initializer/random_uniform/mul' type=Mul>, <tf.Operation 'import/fully_connected/weights/Initializer/random_uniform' type=Add>, <tf.Operation 'import/fully_connected/weights' type=VariableV2>, <tf.Operation 'import/fully_connected/weights/Assign' type=Assign>, <tf.Operation 'import/fully_connected/weights/read' type=Identity>, <tf.Operation 'import/fully_connected/biases/Initializer/Const' type=Const>, <tf.Operation 'import/fully_connected/biases' type=VariableV2>, <tf.Operation 'import/fully_connected/biases/Assign' type=Assign>, <tf.Operation 'import/fully_connected/biases/read' type=Identity>, <tf.Operation 'import/fully_connected/MatMul' type=MatMul>, <tf.Operation 'import/fully_connected/BiasAdd' type=BiasAdd>, <tf.Operation 'import/fully_connected/Relu' type=Relu>, <tf.Operation 'import/fully_connected_1/weights/Initializer/random_uniform/shape' type=Const>, <tf.Operation 'import/fully_connected_1/weights/Initializer/random_uniform/min' type=Const>, <tf.Operation 'import/fully_connected_1/weights/Initializer/random_uniform/max' type=Const>, <tf.Operation 'import/fully_connected_1/weights/Initializer/random_uniform/RandomUniform' type=RandomUniform>, <tf.Operation 'import/fully_connected_1/weights/Initializer/random_uniform/sub' type=Sub>, <tf.Operation 'import/fully_connected_1/weights/Initializer/random_uniform/mul' type=Mul>, <tf.Operation 'import/fully_connected_1/weights/Initializer/random_uniform' type=Add>, <tf.Operation 'import/fully_connected_1/weights' type=VariableV2>, <tf.Operation 'import/fully_connected_1/weights/Assign' type=Assign>, <tf.Operation 'import/fully_connected_1/weights/read' type=Identity>, <tf.Operation 'import/fully_connected_1/biases/Initializer/Const' type=Const>, <tf.Operation 'import/fully_connected_1/biases' type=VariableV2>, <tf.Operation 'import/fully_connected_1/biases/Assign' type=Assign>, <tf.Operation 'import/fully_connected_1/biases/read' type=Identity>, <tf.Operation 'import/fully_connected_1/MatMul' type=MatMul>, <tf.Operation 'import/fully_connected_1/BiasAdd' type=BiasAdd>, <tf.Operation 'import/fully_connected_1/Relu' type=Relu>, <tf.Operation 'import/fully_connected_2/weights/Initializer/random_uniform/shape' type=Const>, <tf.Operation 'import/fully_connected_2/weights/Initializer/random_uniform/min' type=Const>, <tf.Operation 'import/fully_connected_2/weights/Initializer/random_uniform/max' type=Const>, <tf.Operation 'import/fully_connected_2/weights/Initializer/random_uniform/RandomUniform' type=RandomUniform>, <tf.Operation 'import/fully_connected_2/weights/Initializer/random_uniform/sub' type=Sub>, <tf.Operation 'import/fully_connected_2/weights/Initializer/random_uniform/mul' type=Mul>, <tf.Operation 'import/fully_connected_2/weights/Initializer/random_uniform' type=Add>, <tf.Operation 'import/fully_connected_2/weights' type=VariableV2>, <tf.Operation 'import/fully_connected_2/weights/Assign' type=Assign>, <tf.Operation 'import/fully_connected_2/weights/read' type=Identity>, <tf.Operation 'import/fully_connected_2/biases/Initializer/Const' type=Const>, <tf.Operation 'import/fully_connected_2/biases' type=VariableV2>, <tf.Operation 'import/fully_connected_2/biases/Assign' type=Assign>, <tf.Operation 'import/fully_connected_2/biases/read' type=Identity>, <tf.Operation 'import/fully_connected_2/MatMul' type=MatMul>, <tf.Operation 'import/fully_connected_2/BiasAdd' type=BiasAdd>, <tf.Operation 'import/fully_connected_3/weights/Initializer/random_uniform/shape' type=Const>, <tf.Operation 'import/fully_connected_3/weights/Initializer/random_uniform/min' type=Const>, <tf.Operation 'import/fully_connected_3/weights/Initializer/random_uniform/max' type=Const>, <tf.Operation 'import/fully_connected_3/weights/Initializer/random_uniform/RandomUniform' type=RandomUniform>, <tf.Operation 'import/fully_connected_3/weights/Initializer/random_uniform/sub' type=Sub>, <tf.Operation 'import/fully_connected_3/weights/Initializer/random_uniform/mul' type=Mul>, <tf.Operation 'import/fully_connected_3/weights/Initializer/random_uniform' type=Add>, <tf.Operation 'import/fully_connected_3/weights' type=VariableV2>, <tf.Operation 'import/fully_connected_3/weights/Assign' type=Assign>, <tf.Operation 'import/fully_connected_3/weights/read' type=Identity>, <tf.Operation 'import/fully_connected_3/biases/Initializer/Const' type=Const>, <tf.Operation 'import/fully_connected_3/biases' type=VariableV2>, <tf.Operation 'import/fully_connected_3/biases/Assign' type=Assign>, <tf.Operation 'import/fully_connected_3/biases/read' type=Identity>, <tf.Operation 'import/fully_connected_3/MatMul' type=MatMul>, <tf.Operation 'import/fully_connected_3/BiasAdd' type=BiasAdd>, <tf.Operation 'import/fully_connected_3/Tanh' type=Tanh>, <tf.Operation 'import/Normal/loc' type=Identity>, <tf.Operation 'import/Normal/scale' type=Identity>, <tf.Operation 'Normal/loc' type=Identity>, <tf.Operation 'Normal/scale' type=Identity>, <tf.Operation 'Normal/sample/sample_shape' type=Const>, <tf.Operation 'Normal/mean/ones_like/Shape' type=Shape>, <tf.Operation 'Normal/mean/ones_like/Const' type=Const>, <tf.Operation 'Normal/mean/ones_like' type=Fill>, <tf.Operation 'Normal/mean/mul' type=Mul>, <tf.Operation 'Normal/sample/Shape' type=Shape>, <tf.Operation 'Normal/sample/concat/values_0' type=Const>, <tf.Operation 'Normal/sample/concat/axis' type=Const>, <tf.Operation 'Normal/sample/concat' type=ConcatV2>, <tf.Operation 'Normal/sample/random_normal/mean' type=Const>, <tf.Operation 'Normal/sample/random_normal/stddev' type=Const>, <tf.Operation 'Normal/sample/random_normal/RandomStandardNormal' type=RandomStandardNormal>, <tf.Operation 'Normal/sample/random_normal/mul' type=Mul>, <tf.Operation 'Normal/sample/random_normal' type=Add>, <tf.Operation 'Normal/sample/mul' type=Mul>, <tf.Operation 'Normal/sample/add' type=Add>, <tf.Operation 'Normal/sample/Shape_1' type=Shape>, <tf.Operation 'Normal/sample/strided_slice/stack' type=Const>, <tf.Operation 'Normal/sample/strided_slice/stack_1' type=Const>, <tf.Operation 'Normal/sample/strided_slice/stack_2' type=Const>, <tf.Operation 'Normal/sample/strided_slice' type=StridedSlice>, <tf.Operation 'Normal/sample/concat_1/axis' type=Const>, <tf.Operation 'Normal/sample/concat_1' type=ConcatV2>, <tf.Operation 'Normal/sample/Reshape' type=Reshape>]\n"
     ]
    }
   ],
   "source": [
    "print(tf.get_default_graph().get_operations())"
   ]
  },
  {
   "cell_type": "code",
   "execution_count": 141,
   "metadata": {
    "collapsed": false,
    "scrolled": true
   },
   "outputs": [
    {
     "data": {
      "text/html": [
       "\n",
       "        <iframe seamless style=\"width:1200px;height:620px;border:0\" srcdoc=\"\n",
       "        <script>\n",
       "          function load() {\n",
       "            document.getElementById(&quot;graph0.9352677728421146&quot;).pbtxt = '';\n",
       "          }\n",
       "        </script>\n",
       "        <link rel=&quot;import&quot; href=&quot;https://tensorboard.appspot.com/tf-graph-basic.build.html&quot; onload=load()>\n",
       "        <div style=&quot;height:600px&quot;>\n",
       "          <tf-graph-basic id=&quot;graph0.9352677728421146&quot;></tf-graph-basic>\n",
       "        </div>\n",
       "    \"></iframe>\n",
       "    "
      ],
      "text/plain": [
       "<IPython.core.display.HTML object>"
      ]
     },
     "metadata": {},
     "output_type": "display_data"
    }
   ],
   "source": [
    "import tensorboard as tb\n",
    "tb.show_graph(tf.get_default_graph())\n",
    "#tb.show_graph(q_graph)"
   ]
  },
  {
   "cell_type": "code",
   "execution_count": 139,
   "metadata": {
    "collapsed": true
   },
   "outputs": [],
   "source": [
    "tf.reset_default_graph()"
   ]
  },
  {
   "cell_type": "code",
   "execution_count": 146,
   "metadata": {
    "collapsed": false,
    "scrolled": true
   },
   "outputs": [
    {
     "name": "stdout",
     "output_type": "stream",
     "text": [
      "(10, 64)\n"
     ]
    }
   ],
   "source": [
    "with tf.Session(graph=q_graph) as sess:\n",
    "    sess.run(tf.global_variables_initializer())\n",
    "    print(sess.run(q_var, feed_dict={x:train_X[:10]}).shape)"
   ]
  },
  {
   "cell_type": "code",
   "execution_count": 131,
   "metadata": {
    "collapsed": false,
    "scrolled": true
   },
   "outputs": [
    {
     "ename": "FailedPreconditionError",
     "evalue": "Attempting to use uninitialized value import/fully_connected/weights\n\t [[Node: import/fully_connected/weights/read = Identity[T=DT_FLOAT, _class=[\"loc:@import/fully_connected/weights\"], _device=\"/job:localhost/replica:0/task:0/gpu:0\"](import/fully_connected/weights)]]\n\t [[Node: Normal/sample/Reshape/_3 = _Recv[client_terminated=false, recv_device=\"/job:localhost/replica:0/task:0/cpu:0\", send_device=\"/job:localhost/replica:0/task:0/gpu:0\", send_device_incarnation=1, tensor_name=\"edge_80_Normal/sample/Reshape\", tensor_type=DT_FLOAT, _device=\"/job:localhost/replica:0/task:0/cpu:0\"]()]]\n\nCaused by op 'import/fully_connected/weights/read', defined at:\n  File \"/home/masa/.pyenv/versions/anaconda3-4.0.0/lib/python3.5/runpy.py\", line 170, in _run_module_as_main\n    \"__main__\", mod_spec)\n  File \"/home/masa/.pyenv/versions/anaconda3-4.0.0/lib/python3.5/runpy.py\", line 85, in _run_code\n    exec(code, run_globals)\n  File \"/home/masa/.pyenv/versions/anaconda3-4.0.0/lib/python3.5/site-packages/ipykernel/__main__.py\", line 3, in <module>\n    app.launch_new_instance()\n  File \"/home/masa/.pyenv/versions/anaconda3-4.0.0/lib/python3.5/site-packages/traitlets/config/application.py\", line 596, in launch_instance\n    app.start()\n  File \"/home/masa/.pyenv/versions/anaconda3-4.0.0/lib/python3.5/site-packages/ipykernel/kernelapp.py\", line 442, in start\n    ioloop.IOLoop.instance().start()\n  File \"/home/masa/.pyenv/versions/anaconda3-4.0.0/lib/python3.5/site-packages/zmq/eventloop/ioloop.py\", line 162, in start\n    super(ZMQIOLoop, self).start()\n  File \"/home/masa/.pyenv/versions/anaconda3-4.0.0/lib/python3.5/site-packages/tornado/ioloop.py\", line 883, in start\n    handler_func(fd_obj, events)\n  File \"/home/masa/.pyenv/versions/anaconda3-4.0.0/lib/python3.5/site-packages/tornado/stack_context.py\", line 275, in null_wrapper\n    return fn(*args, **kwargs)\n  File \"/home/masa/.pyenv/versions/anaconda3-4.0.0/lib/python3.5/site-packages/zmq/eventloop/zmqstream.py\", line 440, in _handle_events\n    self._handle_recv()\n  File \"/home/masa/.pyenv/versions/anaconda3-4.0.0/lib/python3.5/site-packages/zmq/eventloop/zmqstream.py\", line 472, in _handle_recv\n    self._run_callback(callback, msg)\n  File \"/home/masa/.pyenv/versions/anaconda3-4.0.0/lib/python3.5/site-packages/zmq/eventloop/zmqstream.py\", line 414, in _run_callback\n    callback(*args, **kwargs)\n  File \"/home/masa/.pyenv/versions/anaconda3-4.0.0/lib/python3.5/site-packages/tornado/stack_context.py\", line 275, in null_wrapper\n    return fn(*args, **kwargs)\n  File \"/home/masa/.pyenv/versions/anaconda3-4.0.0/lib/python3.5/site-packages/ipykernel/kernelbase.py\", line 276, in dispatcher\n    return self.dispatch_shell(stream, msg)\n  File \"/home/masa/.pyenv/versions/anaconda3-4.0.0/lib/python3.5/site-packages/ipykernel/kernelbase.py\", line 228, in dispatch_shell\n    handler(stream, idents, msg)\n  File \"/home/masa/.pyenv/versions/anaconda3-4.0.0/lib/python3.5/site-packages/ipykernel/kernelbase.py\", line 391, in execute_request\n    user_expressions, allow_stdin)\n  File \"/home/masa/.pyenv/versions/anaconda3-4.0.0/lib/python3.5/site-packages/ipykernel/ipkernel.py\", line 199, in do_execute\n    shell.run_cell(code, store_history=store_history, silent=silent)\n  File \"/home/masa/.pyenv/versions/anaconda3-4.0.0/lib/python3.5/site-packages/IPython/core/interactiveshell.py\", line 2723, in run_cell\n    interactivity=interactivity, compiler=compiler, result=result)\n  File \"/home/masa/.pyenv/versions/anaconda3-4.0.0/lib/python3.5/site-packages/IPython/core/interactiveshell.py\", line 2825, in run_ast_nodes\n    if self.run_code(code, result):\n  File \"/home/masa/.pyenv/versions/anaconda3-4.0.0/lib/python3.5/site-packages/IPython/core/interactiveshell.py\", line 2885, in run_code\n    exec(code_obj, self.user_global_ns, self.user_ns)\n  File \"<ipython-input-131-3a8d1e367fb6>\", line 4, in <module>\n    print(sess.run(q.sample_given_x({\"x\":_x})[\"z\"], feed_dict={_x:train_X[:10]}).shape)\n  File \"<ipython-input-106-7c1c1a742d57>\", line 28, in sample_given_x\n    _ = self.fprop(givens)\n  File \"<ipython-input-106-7c1c1a742d57>\", line 23, in fprop\n    return_elements=[self.loc.name, self.scale.name])\n  File \"/home/masa/.pyenv/versions/anaconda3-4.0.0/lib/python3.5/site-packages/tensorflow/python/framework/importer.py\", line 287, in import_graph_def\n    op_def=op_def)\n  File \"/home/masa/.pyenv/versions/anaconda3-4.0.0/lib/python3.5/site-packages/tensorflow/python/framework/ops.py\", line 2402, in create_op\n    original_op=self._default_original_op, op_def=op_def)\n  File \"/home/masa/.pyenv/versions/anaconda3-4.0.0/lib/python3.5/site-packages/tensorflow/python/framework/ops.py\", line 1264, in __init__\n    self._traceback = _extract_stack()\n\nFailedPreconditionError (see above for traceback): Attempting to use uninitialized value import/fully_connected/weights\n\t [[Node: import/fully_connected/weights/read = Identity[T=DT_FLOAT, _class=[\"loc:@import/fully_connected/weights\"], _device=\"/job:localhost/replica:0/task:0/gpu:0\"](import/fully_connected/weights)]]\n\t [[Node: Normal/sample/Reshape/_3 = _Recv[client_terminated=false, recv_device=\"/job:localhost/replica:0/task:0/cpu:0\", send_device=\"/job:localhost/replica:0/task:0/gpu:0\", send_device_incarnation=1, tensor_name=\"edge_80_Normal/sample/Reshape\", tensor_type=DT_FLOAT, _device=\"/job:localhost/replica:0/task:0/cpu:0\"]()]]\n",
     "output_type": "error",
     "traceback": [
      "\u001b[1;31m---------------------------------------------------------------------------\u001b[0m",
      "\u001b[1;31mFailedPreconditionError\u001b[0m                   Traceback (most recent call last)",
      "\u001b[1;32m/home/masa/.pyenv/versions/anaconda3-4.0.0/lib/python3.5/site-packages/tensorflow/python/client/session.py\u001b[0m in \u001b[0;36m_do_call\u001b[1;34m(self, fn, *args)\u001b[0m\n\u001b[0;32m   1021\u001b[0m     \u001b[1;32mtry\u001b[0m\u001b[1;33m:\u001b[0m\u001b[1;33m\u001b[0m\u001b[0m\n\u001b[1;32m-> 1022\u001b[1;33m       \u001b[1;32mreturn\u001b[0m \u001b[0mfn\u001b[0m\u001b[1;33m(\u001b[0m\u001b[1;33m*\u001b[0m\u001b[0margs\u001b[0m\u001b[1;33m)\u001b[0m\u001b[1;33m\u001b[0m\u001b[0m\n\u001b[0m\u001b[0;32m   1023\u001b[0m     \u001b[1;32mexcept\u001b[0m \u001b[0merrors\u001b[0m\u001b[1;33m.\u001b[0m\u001b[0mOpError\u001b[0m \u001b[1;32mas\u001b[0m \u001b[0me\u001b[0m\u001b[1;33m:\u001b[0m\u001b[1;33m\u001b[0m\u001b[0m\n",
      "\u001b[1;32m/home/masa/.pyenv/versions/anaconda3-4.0.0/lib/python3.5/site-packages/tensorflow/python/client/session.py\u001b[0m in \u001b[0;36m_run_fn\u001b[1;34m(session, feed_dict, fetch_list, target_list, options, run_metadata)\u001b[0m\n\u001b[0;32m   1003\u001b[0m                                  \u001b[0mfeed_dict\u001b[0m\u001b[1;33m,\u001b[0m \u001b[0mfetch_list\u001b[0m\u001b[1;33m,\u001b[0m \u001b[0mtarget_list\u001b[0m\u001b[1;33m,\u001b[0m\u001b[1;33m\u001b[0m\u001b[0m\n\u001b[1;32m-> 1004\u001b[1;33m                                  status, run_metadata)\n\u001b[0m\u001b[0;32m   1005\u001b[0m \u001b[1;33m\u001b[0m\u001b[0m\n",
      "\u001b[1;32m/home/masa/.pyenv/versions/anaconda3-4.0.0/lib/python3.5/contextlib.py\u001b[0m in \u001b[0;36m__exit__\u001b[1;34m(self, type, value, traceback)\u001b[0m\n\u001b[0;32m     65\u001b[0m             \u001b[1;32mtry\u001b[0m\u001b[1;33m:\u001b[0m\u001b[1;33m\u001b[0m\u001b[0m\n\u001b[1;32m---> 66\u001b[1;33m                 \u001b[0mnext\u001b[0m\u001b[1;33m(\u001b[0m\u001b[0mself\u001b[0m\u001b[1;33m.\u001b[0m\u001b[0mgen\u001b[0m\u001b[1;33m)\u001b[0m\u001b[1;33m\u001b[0m\u001b[0m\n\u001b[0m\u001b[0;32m     67\u001b[0m             \u001b[1;32mexcept\u001b[0m \u001b[0mStopIteration\u001b[0m\u001b[1;33m:\u001b[0m\u001b[1;33m\u001b[0m\u001b[0m\n",
      "\u001b[1;32m/home/masa/.pyenv/versions/anaconda3-4.0.0/lib/python3.5/site-packages/tensorflow/python/framework/errors_impl.py\u001b[0m in \u001b[0;36mraise_exception_on_not_ok_status\u001b[1;34m()\u001b[0m\n\u001b[0;32m    468\u001b[0m           \u001b[0mcompat\u001b[0m\u001b[1;33m.\u001b[0m\u001b[0mas_text\u001b[0m\u001b[1;33m(\u001b[0m\u001b[0mpywrap_tensorflow\u001b[0m\u001b[1;33m.\u001b[0m\u001b[0mTF_Message\u001b[0m\u001b[1;33m(\u001b[0m\u001b[0mstatus\u001b[0m\u001b[1;33m)\u001b[0m\u001b[1;33m)\u001b[0m\u001b[1;33m,\u001b[0m\u001b[1;33m\u001b[0m\u001b[0m\n\u001b[1;32m--> 469\u001b[1;33m           pywrap_tensorflow.TF_GetCode(status))\n\u001b[0m\u001b[0;32m    470\u001b[0m   \u001b[1;32mfinally\u001b[0m\u001b[1;33m:\u001b[0m\u001b[1;33m\u001b[0m\u001b[0m\n",
      "\u001b[1;31mFailedPreconditionError\u001b[0m: Attempting to use uninitialized value import/fully_connected/weights\n\t [[Node: import/fully_connected/weights/read = Identity[T=DT_FLOAT, _class=[\"loc:@import/fully_connected/weights\"], _device=\"/job:localhost/replica:0/task:0/gpu:0\"](import/fully_connected/weights)]]\n\t [[Node: Normal/sample/Reshape/_3 = _Recv[client_terminated=false, recv_device=\"/job:localhost/replica:0/task:0/cpu:0\", send_device=\"/job:localhost/replica:0/task:0/gpu:0\", send_device_incarnation=1, tensor_name=\"edge_80_Normal/sample/Reshape\", tensor_type=DT_FLOAT, _device=\"/job:localhost/replica:0/task:0/cpu:0\"]()]]",
      "\nDuring handling of the above exception, another exception occurred:\n",
      "\u001b[1;31mFailedPreconditionError\u001b[0m                   Traceback (most recent call last)",
      "\u001b[1;32m<ipython-input-131-3a8d1e367fb6>\u001b[0m in \u001b[0;36m<module>\u001b[1;34m()\u001b[0m\n\u001b[0;32m      2\u001b[0m     \u001b[0m_x\u001b[0m \u001b[1;33m=\u001b[0m \u001b[0mtf\u001b[0m\u001b[1;33m.\u001b[0m\u001b[0mplaceholder\u001b[0m\u001b[1;33m(\u001b[0m\u001b[0mtf\u001b[0m\u001b[1;33m.\u001b[0m\u001b[0mfloat32\u001b[0m\u001b[1;33m,\u001b[0m \u001b[0mshape\u001b[0m\u001b[1;33m=\u001b[0m\u001b[1;33m[\u001b[0m\u001b[1;32mNone\u001b[0m\u001b[1;33m,\u001b[0m \u001b[1;36m28\u001b[0m\u001b[1;33m*\u001b[0m\u001b[1;36m28\u001b[0m\u001b[1;33m]\u001b[0m\u001b[1;33m,\u001b[0m \u001b[0mname\u001b[0m\u001b[1;33m=\u001b[0m\u001b[1;34m\"x\"\u001b[0m\u001b[1;33m)\u001b[0m\u001b[1;33m\u001b[0m\u001b[0m\n\u001b[0;32m      3\u001b[0m     \u001b[0msess\u001b[0m\u001b[1;33m.\u001b[0m\u001b[0mrun\u001b[0m\u001b[1;33m(\u001b[0m\u001b[0mtf\u001b[0m\u001b[1;33m.\u001b[0m\u001b[0mglobal_variables_initializer\u001b[0m\u001b[1;33m(\u001b[0m\u001b[1;33m)\u001b[0m\u001b[1;33m)\u001b[0m\u001b[1;33m\u001b[0m\u001b[0m\n\u001b[1;32m----> 4\u001b[1;33m     \u001b[0mprint\u001b[0m\u001b[1;33m(\u001b[0m\u001b[0msess\u001b[0m\u001b[1;33m.\u001b[0m\u001b[0mrun\u001b[0m\u001b[1;33m(\u001b[0m\u001b[0mq\u001b[0m\u001b[1;33m.\u001b[0m\u001b[0msample_given_x\u001b[0m\u001b[1;33m(\u001b[0m\u001b[1;33m{\u001b[0m\u001b[1;34m\"x\"\u001b[0m\u001b[1;33m:\u001b[0m\u001b[0m_x\u001b[0m\u001b[1;33m}\u001b[0m\u001b[1;33m)\u001b[0m\u001b[1;33m[\u001b[0m\u001b[1;34m\"z\"\u001b[0m\u001b[1;33m]\u001b[0m\u001b[1;33m,\u001b[0m \u001b[0mfeed_dict\u001b[0m\u001b[1;33m=\u001b[0m\u001b[1;33m{\u001b[0m\u001b[0m_x\u001b[0m\u001b[1;33m:\u001b[0m\u001b[0mtrain_X\u001b[0m\u001b[1;33m[\u001b[0m\u001b[1;33m:\u001b[0m\u001b[1;36m10\u001b[0m\u001b[1;33m]\u001b[0m\u001b[1;33m}\u001b[0m\u001b[1;33m)\u001b[0m\u001b[1;33m.\u001b[0m\u001b[0mshape\u001b[0m\u001b[1;33m)\u001b[0m\u001b[1;33m\u001b[0m\u001b[0m\n\u001b[0m",
      "\u001b[1;32m/home/masa/.pyenv/versions/anaconda3-4.0.0/lib/python3.5/site-packages/tensorflow/python/client/session.py\u001b[0m in \u001b[0;36mrun\u001b[1;34m(self, fetches, feed_dict, options, run_metadata)\u001b[0m\n\u001b[0;32m    765\u001b[0m     \u001b[1;32mtry\u001b[0m\u001b[1;33m:\u001b[0m\u001b[1;33m\u001b[0m\u001b[0m\n\u001b[0;32m    766\u001b[0m       result = self._run(None, fetches, feed_dict, options_ptr,\n\u001b[1;32m--> 767\u001b[1;33m                          run_metadata_ptr)\n\u001b[0m\u001b[0;32m    768\u001b[0m       \u001b[1;32mif\u001b[0m \u001b[0mrun_metadata\u001b[0m\u001b[1;33m:\u001b[0m\u001b[1;33m\u001b[0m\u001b[0m\n\u001b[0;32m    769\u001b[0m         \u001b[0mproto_data\u001b[0m \u001b[1;33m=\u001b[0m \u001b[0mtf_session\u001b[0m\u001b[1;33m.\u001b[0m\u001b[0mTF_GetBuffer\u001b[0m\u001b[1;33m(\u001b[0m\u001b[0mrun_metadata_ptr\u001b[0m\u001b[1;33m)\u001b[0m\u001b[1;33m\u001b[0m\u001b[0m\n",
      "\u001b[1;32m/home/masa/.pyenv/versions/anaconda3-4.0.0/lib/python3.5/site-packages/tensorflow/python/client/session.py\u001b[0m in \u001b[0;36m_run\u001b[1;34m(self, handle, fetches, feed_dict, options, run_metadata)\u001b[0m\n\u001b[0;32m    963\u001b[0m     \u001b[1;32mif\u001b[0m \u001b[0mfinal_fetches\u001b[0m \u001b[1;32mor\u001b[0m \u001b[0mfinal_targets\u001b[0m\u001b[1;33m:\u001b[0m\u001b[1;33m\u001b[0m\u001b[0m\n\u001b[0;32m    964\u001b[0m       results = self._do_run(handle, final_targets, final_fetches,\n\u001b[1;32m--> 965\u001b[1;33m                              feed_dict_string, options, run_metadata)\n\u001b[0m\u001b[0;32m    966\u001b[0m     \u001b[1;32melse\u001b[0m\u001b[1;33m:\u001b[0m\u001b[1;33m\u001b[0m\u001b[0m\n\u001b[0;32m    967\u001b[0m       \u001b[0mresults\u001b[0m \u001b[1;33m=\u001b[0m \u001b[1;33m[\u001b[0m\u001b[1;33m]\u001b[0m\u001b[1;33m\u001b[0m\u001b[0m\n",
      "\u001b[1;32m/home/masa/.pyenv/versions/anaconda3-4.0.0/lib/python3.5/site-packages/tensorflow/python/client/session.py\u001b[0m in \u001b[0;36m_do_run\u001b[1;34m(self, handle, target_list, fetch_list, feed_dict, options, run_metadata)\u001b[0m\n\u001b[0;32m   1013\u001b[0m     \u001b[1;32mif\u001b[0m \u001b[0mhandle\u001b[0m \u001b[1;32mis\u001b[0m \u001b[1;32mNone\u001b[0m\u001b[1;33m:\u001b[0m\u001b[1;33m\u001b[0m\u001b[0m\n\u001b[0;32m   1014\u001b[0m       return self._do_call(_run_fn, self._session, feed_dict, fetch_list,\n\u001b[1;32m-> 1015\u001b[1;33m                            target_list, options, run_metadata)\n\u001b[0m\u001b[0;32m   1016\u001b[0m     \u001b[1;32melse\u001b[0m\u001b[1;33m:\u001b[0m\u001b[1;33m\u001b[0m\u001b[0m\n\u001b[0;32m   1017\u001b[0m       return self._do_call(_prun_fn, self._session, handle, feed_dict,\n",
      "\u001b[1;32m/home/masa/.pyenv/versions/anaconda3-4.0.0/lib/python3.5/site-packages/tensorflow/python/client/session.py\u001b[0m in \u001b[0;36m_do_call\u001b[1;34m(self, fn, *args)\u001b[0m\n\u001b[0;32m   1033\u001b[0m         \u001b[1;32mexcept\u001b[0m \u001b[0mKeyError\u001b[0m\u001b[1;33m:\u001b[0m\u001b[1;33m\u001b[0m\u001b[0m\n\u001b[0;32m   1034\u001b[0m           \u001b[1;32mpass\u001b[0m\u001b[1;33m\u001b[0m\u001b[0m\n\u001b[1;32m-> 1035\u001b[1;33m       \u001b[1;32mraise\u001b[0m \u001b[0mtype\u001b[0m\u001b[1;33m(\u001b[0m\u001b[0me\u001b[0m\u001b[1;33m)\u001b[0m\u001b[1;33m(\u001b[0m\u001b[0mnode_def\u001b[0m\u001b[1;33m,\u001b[0m \u001b[0mop\u001b[0m\u001b[1;33m,\u001b[0m \u001b[0mmessage\u001b[0m\u001b[1;33m)\u001b[0m\u001b[1;33m\u001b[0m\u001b[0m\n\u001b[0m\u001b[0;32m   1036\u001b[0m \u001b[1;33m\u001b[0m\u001b[0m\n\u001b[0;32m   1037\u001b[0m   \u001b[1;32mdef\u001b[0m \u001b[0m_extend_graph\u001b[0m\u001b[1;33m(\u001b[0m\u001b[0mself\u001b[0m\u001b[1;33m)\u001b[0m\u001b[1;33m:\u001b[0m\u001b[1;33m\u001b[0m\u001b[0m\n",
      "\u001b[1;31mFailedPreconditionError\u001b[0m: Attempting to use uninitialized value import/fully_connected/weights\n\t [[Node: import/fully_connected/weights/read = Identity[T=DT_FLOAT, _class=[\"loc:@import/fully_connected/weights\"], _device=\"/job:localhost/replica:0/task:0/gpu:0\"](import/fully_connected/weights)]]\n\t [[Node: Normal/sample/Reshape/_3 = _Recv[client_terminated=false, recv_device=\"/job:localhost/replica:0/task:0/cpu:0\", send_device=\"/job:localhost/replica:0/task:0/gpu:0\", send_device_incarnation=1, tensor_name=\"edge_80_Normal/sample/Reshape\", tensor_type=DT_FLOAT, _device=\"/job:localhost/replica:0/task:0/cpu:0\"]()]]\n\nCaused by op 'import/fully_connected/weights/read', defined at:\n  File \"/home/masa/.pyenv/versions/anaconda3-4.0.0/lib/python3.5/runpy.py\", line 170, in _run_module_as_main\n    \"__main__\", mod_spec)\n  File \"/home/masa/.pyenv/versions/anaconda3-4.0.0/lib/python3.5/runpy.py\", line 85, in _run_code\n    exec(code, run_globals)\n  File \"/home/masa/.pyenv/versions/anaconda3-4.0.0/lib/python3.5/site-packages/ipykernel/__main__.py\", line 3, in <module>\n    app.launch_new_instance()\n  File \"/home/masa/.pyenv/versions/anaconda3-4.0.0/lib/python3.5/site-packages/traitlets/config/application.py\", line 596, in launch_instance\n    app.start()\n  File \"/home/masa/.pyenv/versions/anaconda3-4.0.0/lib/python3.5/site-packages/ipykernel/kernelapp.py\", line 442, in start\n    ioloop.IOLoop.instance().start()\n  File \"/home/masa/.pyenv/versions/anaconda3-4.0.0/lib/python3.5/site-packages/zmq/eventloop/ioloop.py\", line 162, in start\n    super(ZMQIOLoop, self).start()\n  File \"/home/masa/.pyenv/versions/anaconda3-4.0.0/lib/python3.5/site-packages/tornado/ioloop.py\", line 883, in start\n    handler_func(fd_obj, events)\n  File \"/home/masa/.pyenv/versions/anaconda3-4.0.0/lib/python3.5/site-packages/tornado/stack_context.py\", line 275, in null_wrapper\n    return fn(*args, **kwargs)\n  File \"/home/masa/.pyenv/versions/anaconda3-4.0.0/lib/python3.5/site-packages/zmq/eventloop/zmqstream.py\", line 440, in _handle_events\n    self._handle_recv()\n  File \"/home/masa/.pyenv/versions/anaconda3-4.0.0/lib/python3.5/site-packages/zmq/eventloop/zmqstream.py\", line 472, in _handle_recv\n    self._run_callback(callback, msg)\n  File \"/home/masa/.pyenv/versions/anaconda3-4.0.0/lib/python3.5/site-packages/zmq/eventloop/zmqstream.py\", line 414, in _run_callback\n    callback(*args, **kwargs)\n  File \"/home/masa/.pyenv/versions/anaconda3-4.0.0/lib/python3.5/site-packages/tornado/stack_context.py\", line 275, in null_wrapper\n    return fn(*args, **kwargs)\n  File \"/home/masa/.pyenv/versions/anaconda3-4.0.0/lib/python3.5/site-packages/ipykernel/kernelbase.py\", line 276, in dispatcher\n    return self.dispatch_shell(stream, msg)\n  File \"/home/masa/.pyenv/versions/anaconda3-4.0.0/lib/python3.5/site-packages/ipykernel/kernelbase.py\", line 228, in dispatch_shell\n    handler(stream, idents, msg)\n  File \"/home/masa/.pyenv/versions/anaconda3-4.0.0/lib/python3.5/site-packages/ipykernel/kernelbase.py\", line 391, in execute_request\n    user_expressions, allow_stdin)\n  File \"/home/masa/.pyenv/versions/anaconda3-4.0.0/lib/python3.5/site-packages/ipykernel/ipkernel.py\", line 199, in do_execute\n    shell.run_cell(code, store_history=store_history, silent=silent)\n  File \"/home/masa/.pyenv/versions/anaconda3-4.0.0/lib/python3.5/site-packages/IPython/core/interactiveshell.py\", line 2723, in run_cell\n    interactivity=interactivity, compiler=compiler, result=result)\n  File \"/home/masa/.pyenv/versions/anaconda3-4.0.0/lib/python3.5/site-packages/IPython/core/interactiveshell.py\", line 2825, in run_ast_nodes\n    if self.run_code(code, result):\n  File \"/home/masa/.pyenv/versions/anaconda3-4.0.0/lib/python3.5/site-packages/IPython/core/interactiveshell.py\", line 2885, in run_code\n    exec(code_obj, self.user_global_ns, self.user_ns)\n  File \"<ipython-input-131-3a8d1e367fb6>\", line 4, in <module>\n    print(sess.run(q.sample_given_x({\"x\":_x})[\"z\"], feed_dict={_x:train_X[:10]}).shape)\n  File \"<ipython-input-106-7c1c1a742d57>\", line 28, in sample_given_x\n    _ = self.fprop(givens)\n  File \"<ipython-input-106-7c1c1a742d57>\", line 23, in fprop\n    return_elements=[self.loc.name, self.scale.name])\n  File \"/home/masa/.pyenv/versions/anaconda3-4.0.0/lib/python3.5/site-packages/tensorflow/python/framework/importer.py\", line 287, in import_graph_def\n    op_def=op_def)\n  File \"/home/masa/.pyenv/versions/anaconda3-4.0.0/lib/python3.5/site-packages/tensorflow/python/framework/ops.py\", line 2402, in create_op\n    original_op=self._default_original_op, op_def=op_def)\n  File \"/home/masa/.pyenv/versions/anaconda3-4.0.0/lib/python3.5/site-packages/tensorflow/python/framework/ops.py\", line 1264, in __init__\n    self._traceback = _extract_stack()\n\nFailedPreconditionError (see above for traceback): Attempting to use uninitialized value import/fully_connected/weights\n\t [[Node: import/fully_connected/weights/read = Identity[T=DT_FLOAT, _class=[\"loc:@import/fully_connected/weights\"], _device=\"/job:localhost/replica:0/task:0/gpu:0\"](import/fully_connected/weights)]]\n\t [[Node: Normal/sample/Reshape/_3 = _Recv[client_terminated=false, recv_device=\"/job:localhost/replica:0/task:0/cpu:0\", send_device=\"/job:localhost/replica:0/task:0/gpu:0\", send_device_incarnation=1, tensor_name=\"edge_80_Normal/sample/Reshape\", tensor_type=DT_FLOAT, _device=\"/job:localhost/replica:0/task:0/cpu:0\"]()]]\n"
     ]
    }
   ],
   "source": [
    "with tf.Session() as sess:\n",
    "    _x = tf.placeholder(tf.float32, shape=[None, 28*28], name=\"x\")\n",
    "    sess.run(tf.global_variables_initializer())\n",
    "    print(sess.run(q.sample_given_x({\"x\":_x})[\"z\"], feed_dict={_x:train_X[:10]}).shape)"
   ]
  },
  {
   "cell_type": "code",
   "execution_count": 122,
   "metadata": {
    "collapsed": false
   },
   "outputs": [
    {
     "ename": "NameError",
     "evalue": "name 'import_5' is not defined",
     "output_type": "error",
     "traceback": [
      "\u001b[1;31m---------------------------------------------------------------------------\u001b[0m",
      "\u001b[1;31mNameError\u001b[0m                                 Traceback (most recent call last)",
      "\u001b[1;32m<ipython-input-122-15c09fc32798>\u001b[0m in \u001b[0;36m<module>\u001b[1;34m()\u001b[0m\n\u001b[1;32m----> 1\u001b[1;33m \u001b[0mimport_5\u001b[0m\u001b[1;33m\u001b[0m\u001b[0m\n\u001b[0m",
      "\u001b[1;31mNameError\u001b[0m: name 'import_5' is not defined"
     ]
    }
   ],
   "source": []
  },
  {
   "cell_type": "code",
   "execution_count": null,
   "metadata": {
    "collapsed": true
   },
   "outputs": [],
   "source": []
  }
 ],
 "metadata": {
  "kernelspec": {
   "display_name": "Python 3",
   "language": "python",
   "name": "python3"
  },
  "language_info": {
   "codemirror_mode": {
    "name": "ipython",
    "version": 3
   },
   "file_extension": ".py",
   "mimetype": "text/x-python",
   "name": "python",
   "nbconvert_exporter": "python",
   "pygments_lexer": "ipython3",
   "version": "3.5.1"
  }
 },
 "nbformat": 4,
 "nbformat_minor": 0
}
