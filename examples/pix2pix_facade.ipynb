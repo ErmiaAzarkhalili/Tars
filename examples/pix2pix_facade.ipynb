{
 "cells": [
  {
   "cell_type": "markdown",
   "metadata": {},
   "source": [
    "# Pix2Pix\n",
    "https://arxiv.org/pdf/1611.07004v1.pdf\n",
    "* Download base dataset from http://cmp.felk.cvut.cz/%7Etylecr1/facade/, unzip and put them to ../datasets/facade/"
   ]
  },
  {
   "cell_type": "code",
   "execution_count": 1,
   "metadata": {
    "collapsed": false
   },
   "outputs": [],
   "source": [
    "%matplotlib inline\n",
    "import matplotlib.pyplot as plt\n",
    "import numpy as np\n",
    "from progressbar import ProgressBar\n",
    "import time, os\n",
    "from sklearn.utils import shuffle"
   ]
  },
  {
   "cell_type": "code",
   "execution_count": 2,
   "metadata": {
    "collapsed": false
   },
   "outputs": [
    {
     "name": "stderr",
     "output_type": "stream",
     "text": [
      "WARNING (theano.sandbox.cuda): The cuda backend is deprecated and will be removed in the next release (v0.10).  Please switch to the gpuarray backend. You can get more information about how to switch at this URL:\n",
      " https://github.com/Theano/Theano/wiki/Converting-to-the-new-gpu-back-end%28gpuarray%29\n",
      "\n",
      "Using gpu device 0: GeForce GTX TITAN X (CNMeM is disabled, cuDNN 5005)\n"
     ]
    }
   ],
   "source": [
    "from lasagne.layers import InputLayer, DenseLayer, batch_norm, Conv2DLayer, concat, Deconv2DLayer, dropout\n",
    "from lasagne.init import HeUniform\n",
    "from lasagne.nonlinearities import rectify, sigmoid, leaky_rectify, elu, tanh\n",
    "from lasagne.updates import adam"
   ]
  },
  {
   "cell_type": "code",
   "execution_count": 3,
   "metadata": {
    "collapsed": false
   },
   "outputs": [
    {
     "name": "stderr",
     "output_type": "stream",
     "text": [
      "/home/masa/.pyenv/versions/anaconda-4.0.0/lib/python2.7/site-packages/sklearn/cross_validation.py:44: DeprecationWarning: This module was deprecated in version 0.18 in favor of the model_selection module into which all the refactored classes and functions are moved. Also note that the interface of the new CV iterators are different from that of this module. This module will be removed in 0.20.\n",
      "  \"This module will be removed in 0.20.\", DeprecationWarning)\n"
     ]
    }
   ],
   "source": [
    "from Tars.models import GAN\n",
    "from Tars.distributions import Bernoulli, Deterministic\n",
    "from Tars.load_data import facade"
   ]
  },
  {
   "cell_type": "code",
   "execution_count": 4,
   "metadata": {
    "collapsed": false
   },
   "outputs": [],
   "source": [
    "load,plot = facade('../datasets/')\n",
    "train_x,train_y,test_x,test_y = load(test=True)\n",
    "\n",
    "seed = 1234\n",
    "np.random.seed(seed)\n",
    "\n",
    "n_epoch = 100\n",
    "n_batch = 1\n",
    "\n",
    "optimizer = adam\n",
    "optimizer_params={\"learning_rate\":2e-4, \"beta1\":0.5}"
   ]
  },
  {
   "cell_type": "code",
   "execution_count": 5,
   "metadata": {
    "collapsed": false
   },
   "outputs": [],
   "source": [
    "def CD_layer(input_layer, num_filters, filter_size, enc_dec=\"enc\", concat_layer=None, nonlinearity=rectify, W=HeUniform(gain=\"relu\"), dropout_layer=False):\n",
    "    if enc_dec==\"enc\":\n",
    "        output_layer = batch_norm(Conv2DLayer(input_layer, num_filters, filter_size, nonlinearity=nonlinearity, stride=2, pad=1, W=W))\n",
    "    elif enc_dec==\"dec\":\n",
    "        if concat_layer is not None:\n",
    "            input_layer=concat([input_layer,concat_layer])\n",
    "        output_layer = batch_norm(Deconv2DLayer(input_layer, num_filters, filter_size, nonlinearity=nonlinearity, stride=2, crop=1, W=W))\n",
    "\n",
    "    if dropout_layer is True:\n",
    "        output_layer = dropout(output_layer)\n",
    "                                  \n",
    "    return output_layer"
   ]
  },
  {
   "cell_type": "code",
   "execution_count": 6,
   "metadata": {
    "collapsed": false
   },
   "outputs": [],
   "source": [
    "x = InputLayer((None, 3, 256, 256)) # Target image\n",
    "y = InputLayer((None, 12, 256, 256)) # Source image\n",
    "z = InputLayer((None, 10, 2, 2)) # random noise (diffrent from the original paper)\n",
    "\n",
    "# generator\n",
    "enc_0 = Conv2DLayer(y, 64, 3, nonlinearity=leaky_rectify, pad=1, W=HeUniform(gain=\"relu\"))\n",
    "enc_1 = CD_layer(enc_0, 128, 4, nonlinearity=leaky_rectify, enc_dec=\"enc\")\n",
    "enc_2 = CD_layer(enc_1, 256, 4, nonlinearity=leaky_rectify, enc_dec=\"enc\")\n",
    "enc_3 = CD_layer(enc_2, 512, 4, nonlinearity=leaky_rectify, enc_dec=\"enc\")\n",
    "enc_4 = CD_layer(enc_3, 512, 4, nonlinearity=leaky_rectify, enc_dec=\"enc\")\n",
    "enc_5 = CD_layer(enc_4, 512, 4, nonlinearity=leaky_rectify, enc_dec=\"enc\")\n",
    "enc_6 = CD_layer(enc_5, 512, 4, nonlinearity=leaky_rectify, enc_dec=\"enc\")\n",
    "enc_7 = CD_layer(enc_6, 512, 4, nonlinearity=leaky_rectify, enc_dec=\"enc\")\n",
    "\n",
    "_dec_0 = concat([enc_7,z])\n",
    "dec_0 = CD_layer(_dec_0, 512, 4, nonlinearity=rectify, enc_dec=\"dec\")\n",
    "dec_1 = CD_layer(dec_0, 512, 4, concat_layer=enc_6, nonlinearity=rectify, enc_dec=\"dec\")\n",
    "dec_2 = CD_layer(dec_1, 512, 4, concat_layer=enc_5, nonlinearity=rectify, enc_dec=\"dec\")\n",
    "dec_3 = CD_layer(dec_2, 512, 4, concat_layer=enc_4, nonlinearity=rectify, enc_dec=\"dec\")\n",
    "dec_4 = CD_layer(dec_3, 256, 4, concat_layer=enc_3, nonlinearity=rectify, enc_dec=\"dec\")\n",
    "dec_5 = CD_layer(dec_4, 128, 4, concat_layer=enc_2, nonlinearity=rectify, enc_dec=\"dec\")\n",
    "dec_6 = CD_layer(dec_5, 64, 4, concat_layer=enc_1, nonlinearity=rectify, enc_dec=\"dec\")\n",
    "dec_7 = Deconv2DLayer(dec_6, 3, 3, nonlinearity=tanh, crop=1)\n",
    "p = Deterministic(dec_7, given=[z,y]) #p(x|z,y)\n",
    "                                \n",
    "# discriminator\n",
    "dis_0_0 = CD_layer(x, 32, 4, nonlinearity=leaky_rectify, enc_dec=\"enc\")\n",
    "dis_0_1 = CD_layer(y, 32, 4, nonlinearity=leaky_rectify, enc_dec=\"enc\")\n",
    "dis_0 = concat([dis_0_0, dis_0_1])\n",
    "dis_1 = CD_layer(x, 128, 4, nonlinearity=leaky_rectify, enc_dec=\"enc\")\n",
    "dis_2 = CD_layer(x, 256, 4, nonlinearity=leaky_rectify, enc_dec=\"enc\")\n",
    "dis_3 = CD_layer(x, 512, 4, nonlinearity=leaky_rectify, enc_dec=\"enc\")\n",
    "dis_4 = Conv2DLayer(x, 1, 3, nonlinearity=sigmoid, pad=1)\n",
    "\n",
    "d = Bernoulli(dis_4,given=[x,y]) #d(t|x,y)"
   ]
  },
  {
   "cell_type": "code",
   "execution_count": 7,
   "metadata": {
    "collapsed": false
   },
   "outputs": [],
   "source": [
    "model = GAN(p, d, n_batch,\n",
    "            optimizer, optimizer,\n",
    "            optimizer_params, optimizer_params,\n",
    "            l1_lambda=100)"
   ]
  },
  {
   "cell_type": "code",
   "execution_count": null,
   "metadata": {
    "collapsed": true
   },
   "outputs": [],
   "source": [
    "sample_z  = np.random.standard_normal((1, 10, 2, 2)).astype(np.float32)\n",
    "\n",
    "def plot_image(t,i,sample_id=0):\n",
    "    sample_x = p.np_sample_mean_given_x(sample_z, test_y[sample_id][np.newaxis])\n",
    "    X = plot(sample_x)\n",
    "    plt.imshow(X[0])\n",
    "    plt.savefig('../plot/%d/%04d_%02d_generate.jpg'%(t,i,sample_id))\n",
    "    \n",
    "    X = plot(test_x[sample_id][np.newaxis])\n",
    "    plt.imshow(X[0])\n",
    "    plt.savefig('../plot/%d/%04d_%02d_img.jpg'%(t,i,sample_id))\n",
    "\n",
    "    X = plot(test_y[sample_id][np.newaxis])\n",
    "    plt.imshow(X[0])\n",
    "    plt.savefig('../plot/%d/%04d_%02d_label.jpg'%(t,i,sample_id))    \n",
    "    \n",
    "    plt.close()"
   ]
  },
  {
   "cell_type": "code",
   "execution_count": null,
   "metadata": {
    "collapsed": false
   },
   "outputs": [
    {
     "name": "stderr",
     "output_type": "stream",
     "text": [
      "\r",
      "  0% (  0 of 100) |                                                                              | Elapsed Time: 0:00:00 ETA:  --:--:--"
     ]
    },
    {
     "name": "stdout",
     "output_type": "stream",
     "text": [
      "epoch = 1, loss (train) = 2248154.250000 93641.296875 loss (test) = 48610.371094 90600.414062\n",
      "\n"
     ]
    },
    {
     "name": "stderr",
     "output_type": "stream",
     "text": [
      "  9% (  9 of 100) |#######                                                                         | Elapsed Time: 0:07:05 ETA: 1:11:45"
     ]
    },
    {
     "name": "stdout",
     "output_type": "stream",
     "text": [
      "epoch = 10, loss (train) = 1753739.625000 91018.023438 loss (test) = 45887.765625 88833.812500\n",
      "\n"
     ]
    },
    {
     "name": "stderr",
     "output_type": "stream",
     "text": [
      " 19% ( 19 of 100) |###############                                                                 | Elapsed Time: 0:14:58 ETA: 1:03:29"
     ]
    },
    {
     "name": "stdout",
     "output_type": "stream",
     "text": [
      "epoch = 20, loss (train) = 1307852.000000 90961.648438 loss (test) = 45229.792969 90073.757812\n",
      "\n"
     ]
    },
    {
     "name": "stderr",
     "output_type": "stream",
     "text": [
      "\r",
      " 20% ( 20 of 100) |################                                                                | Elapsed Time: 0:15:47 ETA: 1:03:03"
     ]
    }
   ],
   "source": [
    "t = int(time.time())\n",
    "os.mkdir('../plot/%d' % t)\n",
    "\n",
    "model.set_seed(seed)\n",
    "pbar = ProgressBar(maxval=n_epoch).start()\n",
    "for i in range(1, n_epoch+1):\n",
    "    train_x, train_y = shuffle(train_x, train_y)\n",
    "    loss_train = model.train([train_x,train_y])\n",
    "    if (i%10 == 0) or (i == 1):\n",
    "        loss_test = model.gan_test([test_x, test_y])\n",
    "        lw = \"epoch = %d, loss (train) = %lf %lf loss (test) = %lf %lf\\n\" %(i,loss_train[0],loss_train[1],loss_test[0],loss_test[1])\n",
    "        f = open(\"../plot/%d/temp.txt\" % t, \"a\")\n",
    "        f.write(lw)\n",
    "        f.close()\n",
    "        print lw\n",
    "        plot_image(t,i,0)\n",
    "        \n",
    "    pbar.update(i)"
   ]
  }
 ],
 "metadata": {
  "kernelspec": {
   "display_name": "Python 2",
   "language": "python",
   "name": "python2"
  },
  "language_info": {
   "codemirror_mode": {
    "name": "ipython",
    "version": 2
   },
   "file_extension": ".py",
   "mimetype": "text/x-python",
   "name": "python",
   "nbconvert_exporter": "python",
   "pygments_lexer": "ipython2",
   "version": "2.7.13"
  }
 },
 "nbformat": 4,
 "nbformat_minor": 0
}
