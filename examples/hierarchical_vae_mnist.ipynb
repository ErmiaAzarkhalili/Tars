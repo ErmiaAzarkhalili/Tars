{
 "cells": [
  {
   "cell_type": "markdown",
   "metadata": {},
   "source": [
    "# Hierarchical latent variational autoencoders\n",
    "From [Gulrajani+] PixelVAE: A Latent Variable Model for Natural Images\n",
    "* $p(x,z)=p(x|z)p(z)$\n",
    "    * $p(z)=p(z_1|z_2)...p(z_{n-1}|z_n)p(z_n)$\n",
    "* $q(z|x)=q(z_n|x)...q(z_1|x)$"
   ]
  },
  {
   "cell_type": "code",
   "execution_count": null,
   "metadata": {
    "collapsed": false
   },
   "outputs": [],
   "source": [
    "%matplotlib inline\n",
    "import matplotlib.pyplot as plt\n",
    "import numpy as np\n",
    "from progressbar import ProgressBar\n",
    "import time,os"
   ]
  },
  {
   "cell_type": "code",
   "execution_count": null,
   "metadata": {
    "collapsed": false
   },
   "outputs": [],
   "source": [
    "from lasagne.layers import InputLayer,DenseLayer\n",
    "from lasagne.nonlinearities import rectify,linear,softplus,sigmoid\n",
    "from lasagne.updates import adam"
   ]
  },
  {
   "cell_type": "code",
   "execution_count": null,
   "metadata": {
    "collapsed": false
   },
   "outputs": [],
   "source": [
    "from Tars.models import VAE\n",
    "from Tars.distributions import Gaussian,Bernoulli,MultiDistributions,MultiPriorDistributions\n",
    "from Tars.load_data import mnist"
   ]
  },
  {
   "cell_type": "code",
   "execution_count": null,
   "metadata": {
    "collapsed": false
   },
   "outputs": [],
   "source": [
    "load,plot = mnist('../datasets/')\n",
    "train_x,_,_,_,test_x,_ = load(test=True)\n",
    "\n",
    "activation = rectify\n",
    "seed = 1234\n",
    "np.random.seed(seed)\n",
    "\n",
    "n_epoch = 100\n",
    "n_batch = 100\n",
    "\n",
    "optimizer = adam\n",
    "optimizer_params={\"learning_rate\":0.001, \"epsilon\":1e-4}\n",
    "clip_grad=1\n",
    "max_norm_constraint=5"
   ]
  },
  {
   "cell_type": "code",
   "execution_count": null,
   "metadata": {
    "collapsed": true
   },
   "outputs": [],
   "source": [
    "n_units = [784,64,32,18]"
   ]
  },
  {
   "cell_type": "code",
   "execution_count": null,
   "metadata": {
    "collapsed": false
   },
   "outputs": [],
   "source": [
    "q = []\n",
    "for i, n_input, n_output in zip(reversed(range(len(n_units)-1)), n_units[:-1], n_units[1:]):\n",
    "    print n_input, n_output\n",
    "    x = InputLayer((None,n_input))\n",
    "    q_0  = DenseLayer(x,num_units=512,nonlinearity=activation)\n",
    "    q_1  = DenseLayer(q_0,num_units=512,nonlinearity=activation)\n",
    "    q_mean = DenseLayer(q_1,num_units=n_output,nonlinearity=linear)\n",
    "    q_var = DenseLayer(q_1,num_units=n_output,nonlinearity=softplus)\n",
    "    _q = Gaussian(q_mean,q_var,given=[x]) #p(z|x) or p(z|z)\n",
    "    q.append(_q)\n",
    "\n",
    "q = MultiDistributions(q)"
   ]
  },
  {
   "cell_type": "code",
   "execution_count": null,
   "metadata": {
    "collapsed": false
   },
   "outputs": [],
   "source": [
    "prior = []\n",
    "for i, n_input, n_output in zip(reversed(range(len(n_units)-2)), reversed(n_units[2:]), reversed(n_units[1:-1])):\n",
    "    print n_input,n_output\n",
    "    z = InputLayer((None,n_input))\n",
    "    p_0  = DenseLayer(z,num_units=512,nonlinearity=activation)\n",
    "    p_1  = DenseLayer(p_0,num_units=512,nonlinearity=activation)\n",
    "    p_mean = DenseLayer(p_1,num_units=n_output,nonlinearity=linear)\n",
    "    p_var = DenseLayer(p_1,num_units=n_output,nonlinearity=softplus)\n",
    "    _p = Gaussian(p_mean,p_var,given=[z]) #p(z|z) \n",
    "    prior.append(_p)\n",
    "\n",
    "prior = MultiPriorDistributions(prior)\n",
    "\n",
    "z = InputLayer((None,n_units[1]))\n",
    "p_0  = DenseLayer(z,num_units=512,nonlinearity=activation)\n",
    "p_1  = DenseLayer(p_0,num_units=512,nonlinearity=activation)\n",
    "p_mean = DenseLayer(p_1,num_units=n_units[0],nonlinearity=sigmoid)\n",
    "p = Bernoulli(p_mean,given=[z]) #p(x|z)"
   ]
  },
  {
   "cell_type": "code",
   "execution_count": null,
   "metadata": {
    "collapsed": false
   },
   "outputs": [],
   "source": [
    "model = VAE(q, p, prior,\n",
    "            n_batch=n_batch, optimizer=adam,\n",
    "            optimizer_params=optimizer_params,\n",
    "            train_iw=False, test_iw=True,\n",
    "            clip_grad=clip_grad, max_norm_constraint=max_norm_constraint)"
   ]
  },
  {
   "cell_type": "code",
   "execution_count": null,
   "metadata": {
    "collapsed": true
   },
   "outputs": [],
   "source": [
    "n_sample = 100\n",
    "sample_z  = np.random.standard_normal((n_batch, n_units[-1])).astype(np.float32)\n",
    "\n",
    "def plot_image(t,i):\n",
    "    _sample_z = prior.np_sample_given_x(sample_z)\n",
    "    sample_x = p.np_sample_mean_given_x(_sample_z)\n",
    "    fig = plt.figure(figsize=(10,10))\n",
    "    X,cmap = plot(sample_x[:n_sample])\n",
    "\n",
    "    for j,x in enumerate(X):\n",
    "            ax = fig.add_subplot(10, 10, j + 1)\n",
    "            ax.imshow(x,cmap)\n",
    "            ax.axis('off')\n",
    "\n",
    "    plt.savefig('../plot/%d/%04d.jpg'%(t,i))\n",
    "    plt.close()"
   ]
  },
  {
   "cell_type": "code",
   "execution_count": null,
   "metadata": {
    "collapsed": false
   },
   "outputs": [],
   "source": [
    "t = int(time.time())\n",
    "os.mkdir('../plot/%d' % t)\n",
    "\n",
    "pbar = ProgressBar(maxval=n_epoch).start()\n",
    "for i in range(1, n_epoch+1):\n",
    "    np.random.shuffle(train_x)\n",
    "    lowerbound_train = model.train([train_x])\n",
    "\n",
    "    if (i%10 == 0) or (i == 1):\n",
    "        log_likelihood_test = model.test([test_x])\n",
    "        lw = \"epoch = %d, lower bound (train) = %lf (%lf %lf) lower bound (test) = %lf\\n\" %(i,sum(lowerbound_train),lowerbound_train[0],lowerbound_train[1],np.mean(log_likelihood_test))\n",
    "        f = open(\"../plot/%d/temp.txt\" % t, \"a\")\n",
    "        f.write(lw)\n",
    "        f.close()\n",
    "        print lw\n",
    "        plot_image(t,i)\n",
    "        \n",
    "    pbar.update(i)"
   ]
  },
  {
   "cell_type": "code",
   "execution_count": null,
   "metadata": {
    "collapsed": true
   },
   "outputs": [],
   "source": []
  }
 ],
 "metadata": {
  "kernelspec": {
   "display_name": "Python 2",
   "language": "python",
   "name": "python2"
  },
  "language_info": {
   "codemirror_mode": {
    "name": "ipython",
    "version": 2
   },
   "file_extension": ".py",
   "mimetype": "text/x-python",
   "name": "python",
   "nbconvert_exporter": "python",
   "pygments_lexer": "ipython2",
   "version": "2.7.12"
  }
 },
 "nbformat": 4,
 "nbformat_minor": 0
}
