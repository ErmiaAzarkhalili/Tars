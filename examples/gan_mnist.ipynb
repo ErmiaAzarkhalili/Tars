{
 "cells": [
  {
   "cell_type": "code",
   "execution_count": null,
   "metadata": {
    "collapsed": false
   },
   "outputs": [],
   "source": [
    "%matplotlib inline\n",
    "import matplotlib.pyplot as plt\n",
    "import numpy as np\n",
    "from progressbar import ProgressBar\n",
    "import time,os"
   ]
  },
  {
   "cell_type": "code",
   "execution_count": null,
   "metadata": {
    "collapsed": false
   },
   "outputs": [],
   "source": [
    "from lasagne.layers import InputLayer,DenseLayer,batch_norm\n",
    "from lasagne.nonlinearities import rectify,sigmoid,leaky_rectify,elu, linear\n",
    "from lasagne.updates import adam"
   ]
  },
  {
   "cell_type": "code",
   "execution_count": null,
   "metadata": {
    "collapsed": false
   },
   "outputs": [],
   "source": [
    "from Tars.models import GAN\n",
    "from Tars.distributions import Deterministic, Bernoulli\n",
    "from Tars.load_data import mnist"
   ]
  },
  {
   "cell_type": "code",
   "execution_count": null,
   "metadata": {
    "collapsed": false
   },
   "outputs": [],
   "source": [
    "load,plot = mnist('../datasets/')\n",
    "train_x,_,_,_,test_x,_ = load(test=True)\n",
    "\n",
    "x_dim       = 28*28\n",
    "z_dim       = 64\n",
    "y_dim       = 10\n",
    "\n",
    "activation = rectify\n",
    "seed = 1234\n",
    "np.random.seed(seed)\n",
    "\n",
    "n_epoch = 100\n",
    "n_batch = 100\n",
    "\n",
    "optimizer = adam\n",
    "optimizer_params={\"learning_rate\":1e-4, \"beta1\":0.5}"
   ]
  },
  {
   "cell_type": "code",
   "execution_count": null,
   "metadata": {
    "collapsed": false
   },
   "outputs": [],
   "source": [
    "z = InputLayer((None,z_dim))\n",
    "p_0  = batch_norm(DenseLayer(z,num_units=512,nonlinearity=activation))\n",
    "p_1  = batch_norm(DenseLayer(p_0,num_units=512,nonlinearity=activation))\n",
    "p_mean = DenseLayer(p_1,num_units=x_dim,nonlinearity=sigmoid)\n",
    "p = Deterministic(p_mean,given=[z]) #p(x|z)\n",
    "\n",
    "x = InputLayer((None,x_dim))\n",
    "d_0  = DenseLayer(x,num_units=512,nonlinearity=leaky_rectify)\n",
    "d_1  = DenseLayer(d_0,num_units=512,nonlinearity=leaky_rectify)\n",
    "d_mean = DenseLayer(d_1,num_units=1,nonlinearity=sigmoid)\n",
    "d = Bernoulli(d_mean,given=[x]) #d(t|x)"
   ]
  },
  {
   "cell_type": "code",
   "execution_count": null,
   "metadata": {
    "collapsed": false
   },
   "outputs": [],
   "source": [
    "model = GAN(p,d,\n",
    "            n_batch,\n",
    "            optimizer,optimizer,\n",
    "            optimizer_params,optimizer_params)"
   ]
  },
  {
   "cell_type": "code",
   "execution_count": null,
   "metadata": {
    "collapsed": false
   },
   "outputs": [],
   "source": [
    "n_sample = 100\n",
    "sample_z  = np.random.uniform(-1.,1.,size=(n_batch, z_dim)).astype(np.float32)\n",
    "\n",
    "def plot_image(t,i):\n",
    "    sample_x = p.np_sample_mean_given_x(sample_z)\n",
    "    fig = plt.figure(figsize=(10,10))\n",
    "    X,cmap = plot(sample_x[:n_sample])\n",
    "\n",
    "    for j,x in enumerate(X):\n",
    "            ax = fig.add_subplot(10, 10, j + 1)\n",
    "            ax.imshow(x,cmap)\n",
    "            ax.axis('off')\n",
    "\n",
    "    plt.savefig('../plot/%d/%04d.jpg'%(t,i))\n",
    "    plt.close()"
   ]
  },
  {
   "cell_type": "code",
   "execution_count": null,
   "metadata": {
    "collapsed": false
   },
   "outputs": [],
   "source": [
    "t = int(time.time())\n",
    "os.mkdir('../plot/%d' % t)\n",
    "\n",
    "model.set_seed(seed)\n",
    "pbar = ProgressBar(maxval=n_epoch).start()\n",
    "for i in range(1, n_epoch+1):\n",
    "    np.random.shuffle(train_x)\n",
    "    loss_train = model.train([train_x])\n",
    "    if (i%10 == 0) or (i == 1):\n",
    "        loss_test = model.gan_test([test_x])\n",
    "        lw = \"epoch = %d, loss (train) = %lf %lf loss (test) = %lf %lf\\n\" %(i,loss_train[0],loss_train[1],loss_test[0],loss_test[1])\n",
    "        f = open(\"../plot/%d/temp.txt\" % t, \"a\")\n",
    "        f.write(lw)\n",
    "        f.close()\n",
    "        print lw\n",
    "        plot_image(t,i)\n",
    "        \n",
    "    pbar.update(i)"
   ]
  }
 ],
 "metadata": {
  "kernelspec": {
   "display_name": "Python 2",
   "language": "python",
   "name": "python2"
  },
  "language_info": {
   "codemirror_mode": {
    "name": "ipython",
    "version": 2
   },
   "file_extension": ".py",
   "mimetype": "text/x-python",
   "name": "python",
   "nbconvert_exporter": "python",
   "pygments_lexer": "ipython2",
   "version": "2.7.13"
  }
 },
 "nbformat": 4,
 "nbformat_minor": 0
}
